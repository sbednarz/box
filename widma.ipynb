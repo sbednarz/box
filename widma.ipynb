{
 "cells": [
  {
   "cell_type": "code",
   "execution_count": 6,
   "metadata": {
    "collapsed": true
   },
   "outputs": [],
   "source": [
    "import numpy as np\n",
    "import matplotlib.pyplot as plt\n",
    "%matplotlib inline"
   ]
  },
  {
   "cell_type": "code",
   "execution_count": 7,
   "metadata": {
    "collapsed": true
   },
   "outputs": [],
   "source": [
    "# ax - wykres\n",
    "# x1 - początek m/z\n",
    "# x2 - koniec m/z\n",
    "# ymin - minimalna intensywność opisywanych pików\n",
    "# ymax - maksymalna intensywność opisywanych pików\n",
    "# dataset - macierz z widmem załadowanym z pliku\n",
    "# fsize - font size\n",
    "\n",
    "def labels(ax, x1, x2, ymin, ymax, dataset, fsize):   \n",
    "    last_x = 0\n",
    "    last_y = 0\n",
    "    for p in dataset:\n",
    "        x = p[0]\n",
    "        y = p[1]\n",
    "        if x<x2 and x>x1 and y > ymin:\n",
    "            label = r'{:.2f}'.format(x)\n",
    "            if y >= ymax:\n",
    "                ax.text(x+2, ymax-0.13*ymax, label, rotation='vertical', ha='left',size=fsize)\n",
    "            elif x - 7 < last_x:\n",
    "                ax.text(x+2, y, label, rotation='vertical', ha='left',size=fsize)\n",
    "            else:\n",
    "                ax.text(x-2, y, label, rotation='vertical', ha='right', size=fsize)\n",
    "            last_x = x\n",
    "            last_y = y\n",
    "\n",
    "            \n",
    "            \n",
    "# przeliczenie sygnału na wartości względne od 0 do 1\n",
    "def normalize(a):\n",
    "    maxy = a[:,1].max()\n",
    "    a[:,1] = a[:,1] / maxy"
   ]
  },
  {
   "cell_type": "code",
   "execution_count": 8,
   "metadata": {},
   "outputs": [
    {
     "data": {
      "image/png": "[encoded data removed]",
      "text/plain": [
       "<matplotlib.figure.Figure at 0xaaefac8>"
      ]
     },
     "metadata": {},
     "output_type": "display_data"
    }
   ],
   "source": [
    "# załadowanie widma\n",
    "in9 = np.loadtxt('IN9.txt')\n",
    "# normalizacja sygnału do zakresu 0 - 1\n",
    "normalize(in9)\n",
    "\n",
    "#zakres m/z\n",
    "x1 = 400\n",
    "x2 = 550\n",
    "#zakres sygnału (znormalizowanego)\n",
    "y1 = 0\n",
    "y2 = 1\n",
    "\n",
    "# rozmiar rys. w calach\n",
    "fig = plt.figure(figsize=(7,4))\n",
    "# x0, y0, szer, wys. wykresu\n",
    "ax1 = fig.add_axes([0.15,0.15,0.8,0.8])\n",
    "\n",
    "# zakres m/z\n",
    "ax1.set_xlim([x1,x2])\n",
    "\n",
    "# zakres sygnału\n",
    "ax1.set_ylim([y1,y2])\n",
    "\n",
    "ax1.vlines(in9[:,0], 0, in9[:,1], \n",
    "           '#000080',     # kolor rrggbb\n",
    "           linewidth=1    # grubość linii\n",
    "          )\n",
    "\n",
    "ax1.set_xlabel('m/z')\n",
    "ax1.set_ylabel(u'Sygnał')\n",
    "\n",
    "\n",
    "\n",
    "\n",
    "# podpisanie widma\n",
    "\n",
    "# zakres sygnałów do podpisania:\n",
    "smin = 0.2\n",
    "smax = 1\n",
    "# np. dla smin=0.2 smax=1 => oznacza podpisanie wszystkich pików  o intensywności 0.2 < s < 1 \n",
    "\n",
    "# wielkość fontów: xx-small, x-small, small, itd\n",
    "labels(ax1, x1, x2, smin, smax, in9, 'small')\n",
    "\n",
    "\n",
    "\n",
    "# export do pliku\n",
    "\n",
    "# plik SVG można dalej obrabiać ...\n",
    "plt.savefig('widmo.svg')"
   ]
  },
  {
   "cell_type": "code",
   "execution_count": null,
   "metadata": {
    "collapsed": true
   },
   "outputs": [],
   "source": []
  }
 ],
 "metadata": {
  "kernelspec": {
   "display_name": "Python 2",
   "language": "python",
   "name": "python2"
  },
  "language_info": {
   "codemirror_mode": {
    "name": "ipython",
    "version": 2
   },
   "file_extension": ".py",
   "mimetype": "text/x-python",
   "name": "python",
   "nbconvert_exporter": "python",
   "pygments_lexer": "ipython2",
   "version": "2.7.13"
  }
 },
 "nbformat": 4,
 "nbformat_minor": 2
}
